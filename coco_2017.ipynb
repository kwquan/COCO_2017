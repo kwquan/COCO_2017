{
 "cells": [
  {
   "cell_type": "markdown",
   "id": "76504559",
   "metadata": {},
   "source": [
    "### Import Packages "
   ]
  },
  {
   "cell_type": "code",
   "execution_count": 12,
   "id": "2200d4dc",
   "metadata": {},
   "outputs": [
    {
     "data": {
      "text/plain": [
       "[PhysicalDevice(name='/physical_device:GPU:0', device_type='GPU')]"
      ]
     },
     "execution_count": 12,
     "metadata": {},
     "output_type": "execute_result"
    }
   ],
   "source": [
    "import tensorflow as tf\n",
    "from tensorflow.python.client import device_lib\n",
    "tf.config.list_physical_devices('GPU')"
   ]
  },
  {
   "cell_type": "code",
   "execution_count": 13,
   "id": "c0de7100",
   "metadata": {},
   "outputs": [],
   "source": [
    "from PIL import Image\n",
    "import random\n",
    "import matplotlib.pyplot as plt\n",
    "import pandas as pd\n",
    "import os\n",
    "import json\n",
    "import yaml\n",
    "import numpy as np"
   ]
  },
  {
   "cell_type": "markdown",
   "id": "2913bd88",
   "metadata": {},
   "source": [
    "### Read json Files "
   ]
  },
  {
   "cell_type": "markdown",
   "id": "ab3010f0",
   "metadata": {},
   "source": [
    "Here, we read the annotation file downloaded from the webite."
   ]
  },
  {
   "cell_type": "code",
   "execution_count": 64,
   "id": "d026caba",
   "metadata": {},
   "outputs": [],
   "source": [
    "f = open('annotations/instances_train2017.json',)\n",
    "train_data = json.load(f)"
   ]
  },
  {
   "cell_type": "code",
   "execution_count": 65,
   "id": "106e6b31",
   "metadata": {},
   "outputs": [],
   "source": [
    "f = open('annotations/instances_val2017.json',)\n",
    "val_data = json.load(f)"
   ]
  },
  {
   "cell_type": "markdown",
   "id": "5e646111",
   "metadata": {},
   "source": [
    "Let's create 2 dataframes for storing image information for train & val images. \\\n",
    "First, we create an empty dataframe with the columns: file_name,height,width,id. \\\n",
    "Next, we run the function process_json which takes the newly-created dataframe & the loaded json file as inputs. \\\n",
    "Image information can be found under the 'images' key of the json file. \\\n",
    "What the functions does is that it loops through the indices & stores the file_name,height,width & id to the dataframe. \\ "
   ]
  },
  {
   "cell_type": "code",
   "execution_count": 68,
   "id": "375cdbf0",
   "metadata": {},
   "outputs": [],
   "source": [
    "def process_json(df,df_data):\n",
    "    '''df_data is the json file & df is the newly-created dataframe for storing the info required from the json file'''\n",
    "    for i in range(len(df_data['images'])):\n",
    "        df.loc[i,'file_name'] = df_data['images'][i]['file_name']\n",
    "        df.loc[i,'height'] = df_data['images'][i]['height']\n",
    "        df.loc[i,'width'] = df_data['images'][i]['width']\n",
    "        df.loc[i,'id'] = df_data['images'][i]['id']\n",
    "    print('finished image details processing')  "
   ]
  },
  {
   "cell_type": "code",
   "execution_count": 69,
   "id": "6c1b96bc",
   "metadata": {},
   "outputs": [
    {
     "name": "stdout",
     "output_type": "stream",
     "text": [
      "finished image details processing\n"
     ]
    }
   ],
   "source": [
    "train = pd.DataFrame(columns=['file_name','height','width','id'])\n",
    "process_json(train,train_data)"
   ]
  },
  {
   "cell_type": "code",
   "execution_count": 71,
   "id": "f707135a",
   "metadata": {},
   "outputs": [
    {
     "name": "stdout",
     "output_type": "stream",
     "text": [
      "finished image details processing\n"
     ]
    }
   ],
   "source": [
    "val = pd.DataFrame(columns=['file_name','height','width','id'])\n",
    "process_json(val,val_data)"
   ]
  },
  {
   "cell_type": "markdown",
   "id": "9e9709e1",
   "metadata": {},
   "source": [
    "Next, we create 2 dataframes for train & val annotations. \\\n",
    "These dataframes will grab the annotation information using json_normalize & look at the columns image_id, category_id & bbox. \\\n",
    "bbox contains 4 values, the top left x coordinate, top left y coordinate, the width & heigth of the bounding box. \\\n",
    "We will need to separate them out, drop bbox & return the dataframe. "
   ]
  },
  {
   "cell_type": "code",
   "execution_count": 73,
   "id": "0ef679f8",
   "metadata": {},
   "outputs": [],
   "source": [
    "def get_annotation(df_data):\n",
    "    df_annt = pd.json_normalize(df_data['annotations'])\n",
    "    df_annt = df_annt[['image_id','category_id','bbox']]\n",
    "    df_annt['top_left_x'] = df_annt['bbox'].map(lambda x:x[0])\n",
    "    df_annt['top_left_y'] = df_annt['bbox'].map(lambda x:x[1])\n",
    "    df_annt['box_width'] = df_annt['bbox'].map(lambda x:x[2])\n",
    "    df_annt['box_height'] = df_annt['bbox'].map(lambda x:x[3])\n",
    "    df_annt.drop('bbox',axis=1,inplace=True)\n",
    "    return df_annt"
   ]
  },
  {
   "cell_type": "code",
   "execution_count": 77,
   "id": "68b4da44",
   "metadata": {},
   "outputs": [],
   "source": [
    "train_annt = get_annotation(train_data)\n",
    "val_annt = get_annotation(val_data)"
   ]
  },
  {
   "cell_type": "markdown",
   "id": "ab3272e4",
   "metadata": {},
   "source": [
    "### Data Pre-processing "
   ]
  },
  {
   "cell_type": "markdown",
   "id": "c9be1a59",
   "metadata": {},
   "source": [
    "You will notice that all train images have their annotations but not all val images do. \\\n",
    "Here, we drop val images if they do not have annotation data. \\"
   ]
  },
  {
   "cell_type": "code",
   "execution_count": 79,
   "id": "2e8ff877",
   "metadata": {},
   "outputs": [
    {
     "data": {
      "text/plain": [
       "117266"
      ]
     },
     "execution_count": 79,
     "metadata": {},
     "output_type": "execute_result"
    }
   ],
   "source": [
    "len(set(train_annt['image_id'].unique()).intersection(train['id'].unique()))"
   ]
  },
  {
   "cell_type": "code",
   "execution_count": 20,
   "id": "bc24508b",
   "metadata": {},
   "outputs": [],
   "source": [
    "lis = [x for x in val['id'].unique() if x not in set(val_annt['image_id'].unique()).intersection(val['id'].unique())]\n",
    "#Change path to directory where val images are stored. it should foundi n the val folder under images\n",
    "for i in val.loc[val['id'].isin(lis)]['file_name']:\n",
    "    os.remove(os.path.join('images/val',i))"
   ]
  },
  {
   "cell_type": "markdown",
   "id": "5d363fa9",
   "metadata": {},
   "source": [
    "How the dataframes should look like. \\\n",
    "Here, I printed out the dataframes that stored the image information & annotation information for training images."
   ]
  },
  {
   "cell_type": "code",
   "execution_count": 80,
   "id": "310a6eba",
   "metadata": {},
   "outputs": [
    {
     "data": {
      "text/html": [
       "<div>\n",
       "<style scoped>\n",
       "    .dataframe tbody tr th:only-of-type {\n",
       "        vertical-align: middle;\n",
       "    }\n",
       "\n",
       "    .dataframe tbody tr th {\n",
       "        vertical-align: top;\n",
       "    }\n",
       "\n",
       "    .dataframe thead th {\n",
       "        text-align: right;\n",
       "    }\n",
       "</style>\n",
       "<table border=\"1\" class=\"dataframe\">\n",
       "  <thead>\n",
       "    <tr style=\"text-align: right;\">\n",
       "      <th></th>\n",
       "      <th>file_name</th>\n",
       "      <th>height</th>\n",
       "      <th>width</th>\n",
       "      <th>id</th>\n",
       "    </tr>\n",
       "  </thead>\n",
       "  <tbody>\n",
       "    <tr>\n",
       "      <th>0</th>\n",
       "      <td>000000391895.jpg</td>\n",
       "      <td>360</td>\n",
       "      <td>640</td>\n",
       "      <td>391895</td>\n",
       "    </tr>\n",
       "    <tr>\n",
       "      <th>1</th>\n",
       "      <td>000000522418.jpg</td>\n",
       "      <td>480</td>\n",
       "      <td>640</td>\n",
       "      <td>522418</td>\n",
       "    </tr>\n",
       "    <tr>\n",
       "      <th>2</th>\n",
       "      <td>000000184613.jpg</td>\n",
       "      <td>336</td>\n",
       "      <td>500</td>\n",
       "      <td>184613</td>\n",
       "    </tr>\n",
       "    <tr>\n",
       "      <th>3</th>\n",
       "      <td>000000318219.jpg</td>\n",
       "      <td>640</td>\n",
       "      <td>556</td>\n",
       "      <td>318219</td>\n",
       "    </tr>\n",
       "    <tr>\n",
       "      <th>4</th>\n",
       "      <td>000000554625.jpg</td>\n",
       "      <td>640</td>\n",
       "      <td>426</td>\n",
       "      <td>554625</td>\n",
       "    </tr>\n",
       "    <tr>\n",
       "      <th>...</th>\n",
       "      <td>...</td>\n",
       "      <td>...</td>\n",
       "      <td>...</td>\n",
       "      <td>...</td>\n",
       "    </tr>\n",
       "    <tr>\n",
       "      <th>118282</th>\n",
       "      <td>000000444010.jpg</td>\n",
       "      <td>480</td>\n",
       "      <td>640</td>\n",
       "      <td>444010</td>\n",
       "    </tr>\n",
       "    <tr>\n",
       "      <th>118283</th>\n",
       "      <td>000000565004.jpg</td>\n",
       "      <td>427</td>\n",
       "      <td>640</td>\n",
       "      <td>565004</td>\n",
       "    </tr>\n",
       "    <tr>\n",
       "      <th>118284</th>\n",
       "      <td>000000516168.jpg</td>\n",
       "      <td>480</td>\n",
       "      <td>640</td>\n",
       "      <td>516168</td>\n",
       "    </tr>\n",
       "    <tr>\n",
       "      <th>118285</th>\n",
       "      <td>000000547503.jpg</td>\n",
       "      <td>375</td>\n",
       "      <td>500</td>\n",
       "      <td>547503</td>\n",
       "    </tr>\n",
       "    <tr>\n",
       "      <th>118286</th>\n",
       "      <td>000000475546.jpg</td>\n",
       "      <td>375</td>\n",
       "      <td>500</td>\n",
       "      <td>475546</td>\n",
       "    </tr>\n",
       "  </tbody>\n",
       "</table>\n",
       "<p>118287 rows × 4 columns</p>\n",
       "</div>"
      ],
      "text/plain": [
       "               file_name height width      id\n",
       "0       000000391895.jpg    360   640  391895\n",
       "1       000000522418.jpg    480   640  522418\n",
       "2       000000184613.jpg    336   500  184613\n",
       "3       000000318219.jpg    640   556  318219\n",
       "4       000000554625.jpg    640   426  554625\n",
       "...                  ...    ...   ...     ...\n",
       "118282  000000444010.jpg    480   640  444010\n",
       "118283  000000565004.jpg    427   640  565004\n",
       "118284  000000516168.jpg    480   640  516168\n",
       "118285  000000547503.jpg    375   500  547503\n",
       "118286  000000475546.jpg    375   500  475546\n",
       "\n",
       "[118287 rows x 4 columns]"
      ]
     },
     "execution_count": 80,
     "metadata": {},
     "output_type": "execute_result"
    }
   ],
   "source": [
    "train"
   ]
  },
  {
   "cell_type": "code",
   "execution_count": 81,
   "id": "33099c3f",
   "metadata": {},
   "outputs": [
    {
     "data": {
      "text/html": [
       "<div>\n",
       "<style scoped>\n",
       "    .dataframe tbody tr th:only-of-type {\n",
       "        vertical-align: middle;\n",
       "    }\n",
       "\n",
       "    .dataframe tbody tr th {\n",
       "        vertical-align: top;\n",
       "    }\n",
       "\n",
       "    .dataframe thead th {\n",
       "        text-align: right;\n",
       "    }\n",
       "</style>\n",
       "<table border=\"1\" class=\"dataframe\">\n",
       "  <thead>\n",
       "    <tr style=\"text-align: right;\">\n",
       "      <th></th>\n",
       "      <th>image_id</th>\n",
       "      <th>category_id</th>\n",
       "      <th>top_left_x</th>\n",
       "      <th>top_left_y</th>\n",
       "      <th>box_width</th>\n",
       "      <th>box_height</th>\n",
       "    </tr>\n",
       "  </thead>\n",
       "  <tbody>\n",
       "    <tr>\n",
       "      <th>0</th>\n",
       "      <td>558840</td>\n",
       "      <td>58</td>\n",
       "      <td>199.84</td>\n",
       "      <td>200.46</td>\n",
       "      <td>77.71</td>\n",
       "      <td>70.88</td>\n",
       "    </tr>\n",
       "    <tr>\n",
       "      <th>1</th>\n",
       "      <td>200365</td>\n",
       "      <td>58</td>\n",
       "      <td>234.22</td>\n",
       "      <td>317.11</td>\n",
       "      <td>149.39</td>\n",
       "      <td>38.55</td>\n",
       "    </tr>\n",
       "    <tr>\n",
       "      <th>2</th>\n",
       "      <td>200365</td>\n",
       "      <td>58</td>\n",
       "      <td>239.48</td>\n",
       "      <td>347.87</td>\n",
       "      <td>160.00</td>\n",
       "      <td>57.81</td>\n",
       "    </tr>\n",
       "    <tr>\n",
       "      <th>3</th>\n",
       "      <td>200365</td>\n",
       "      <td>58</td>\n",
       "      <td>296.65</td>\n",
       "      <td>388.33</td>\n",
       "      <td>1.03</td>\n",
       "      <td>0.00</td>\n",
       "    </tr>\n",
       "    <tr>\n",
       "      <th>4</th>\n",
       "      <td>200365</td>\n",
       "      <td>58</td>\n",
       "      <td>251.87</td>\n",
       "      <td>333.42</td>\n",
       "      <td>125.94</td>\n",
       "      <td>22.71</td>\n",
       "    </tr>\n",
       "    <tr>\n",
       "      <th>...</th>\n",
       "      <td>...</td>\n",
       "      <td>...</td>\n",
       "      <td>...</td>\n",
       "      <td>...</td>\n",
       "      <td>...</td>\n",
       "      <td>...</td>\n",
       "    </tr>\n",
       "    <tr>\n",
       "      <th>859996</th>\n",
       "      <td>390883</td>\n",
       "      <td>1</td>\n",
       "      <td>40.00</td>\n",
       "      <td>104.00</td>\n",
       "      <td>394.00</td>\n",
       "      <td>43.00</td>\n",
       "    </tr>\n",
       "    <tr>\n",
       "      <th>859997</th>\n",
       "      <td>49902</td>\n",
       "      <td>53</td>\n",
       "      <td>137.00</td>\n",
       "      <td>195.00</td>\n",
       "      <td>140.00</td>\n",
       "      <td>138.00</td>\n",
       "    </tr>\n",
       "    <tr>\n",
       "      <th>859998</th>\n",
       "      <td>363764</td>\n",
       "      <td>43</td>\n",
       "      <td>476.00</td>\n",
       "      <td>200.00</td>\n",
       "      <td>153.00</td>\n",
       "      <td>85.00</td>\n",
       "    </tr>\n",
       "    <tr>\n",
       "      <th>859999</th>\n",
       "      <td>554743</td>\n",
       "      <td>1</td>\n",
       "      <td>275.00</td>\n",
       "      <td>207.00</td>\n",
       "      <td>153.00</td>\n",
       "      <td>148.00</td>\n",
       "    </tr>\n",
       "    <tr>\n",
       "      <th>860000</th>\n",
       "      <td>95999</td>\n",
       "      <td>1</td>\n",
       "      <td>227.00</td>\n",
       "      <td>260.00</td>\n",
       "      <td>397.00</td>\n",
       "      <td>82.00</td>\n",
       "    </tr>\n",
       "  </tbody>\n",
       "</table>\n",
       "<p>860001 rows × 6 columns</p>\n",
       "</div>"
      ],
      "text/plain": [
       "        image_id  category_id  top_left_x  top_left_y  box_width  box_height\n",
       "0         558840           58      199.84      200.46      77.71       70.88\n",
       "1         200365           58      234.22      317.11     149.39       38.55\n",
       "2         200365           58      239.48      347.87     160.00       57.81\n",
       "3         200365           58      296.65      388.33       1.03        0.00\n",
       "4         200365           58      251.87      333.42     125.94       22.71\n",
       "...          ...          ...         ...         ...        ...         ...\n",
       "859996    390883            1       40.00      104.00     394.00       43.00\n",
       "859997     49902           53      137.00      195.00     140.00      138.00\n",
       "859998    363764           43      476.00      200.00     153.00       85.00\n",
       "859999    554743            1      275.00      207.00     153.00      148.00\n",
       "860000     95999            1      227.00      260.00     397.00       82.00\n",
       "\n",
       "[860001 rows x 6 columns]"
      ]
     },
     "execution_count": 81,
     "metadata": {},
     "output_type": "execute_result"
    }
   ],
   "source": [
    "train_annt"
   ]
  },
  {
   "cell_type": "markdown",
   "id": "ed62d2b3",
   "metadata": {},
   "source": [
    "### Create Labels "
   ]
  },
  {
   "cell_type": "markdown",
   "id": "df4a8efd",
   "metadata": {},
   "source": [
    "YOLOv5 requires label files for each image to be in txt format of the following structure: \\\n",
    "category_id center_x center_y box_width box_height \\\n",
    "The coordinates & dimension info have to be scaled using image width/height. \\\n",
    "We shall use the convert_to_yolo function to produce our desired txt files for each image. \n",
    "\n",
    "We loop through the indices for train/val & do the following: \\\n",
    "[For each bounding box]: \n",
    "1) Get the image width & height \\\n",
    "2) Filter annotation dataframe for desired rows only \\\n",
    "3) Calculate the bounding box centre coordinates & scale them by diving by image width/height \\\n",
    "4) Get the bounding box width & height, scale them by dicing by image width/height \n",
    "\n",
    "Finally, loop through each row of box information & add it as a row to the txt file before saving it. "
   ]
  },
  {
   "cell_type": "code",
   "execution_count": 24,
   "id": "6a683dd2",
   "metadata": {},
   "outputs": [
    {
     "name": "stderr",
     "output_type": "stream",
     "text": [
      "C:\\Users\\resce\\.conda\\envs\\tf-gpu\\lib\\site-packages\\pandas\\core\\indexing.py:1667: SettingWithCopyWarning: \n",
      "A value is trying to be set on a copy of a slice from a DataFrame.\n",
      "Try using .loc[row_indexer,col_indexer] = value instead\n",
      "\n",
      "See the caveats in the documentation: https://pandas.pydata.org/pandas-docs/stable/user_guide/indexing.html#returning-a-view-versus-a-copy\n",
      "  self.obj[key] = value\n",
      "C:\\Users\\resce\\.conda\\envs\\tf-gpu\\lib\\site-packages\\pandas\\core\\indexing.py:1773: SettingWithCopyWarning: \n",
      "A value is trying to be set on a copy of a slice from a DataFrame.\n",
      "Try using .loc[row_indexer,col_indexer] = value instead\n",
      "\n",
      "See the caveats in the documentation: https://pandas.pydata.org/pandas-docs/stable/user_guide/indexing.html#returning-a-view-versus-a-copy\n",
      "  self._setitem_single_column(ilocs[0], value, pi)\n"
     ]
    }
   ],
   "source": [
    "def convert_to_yolo(i):\n",
    "    '''Need to change to train/val. For e,g, w,h = train['width'][i], train['height'][i]'''\n",
    "    '''Also need to change to train_annt/val_annt'''\n",
    "    '''Finally, need to also change to annotations/val or annotations/train'''\n",
    "    w,h = val['width'][i], val['height'][i]\n",
    "    df = val_annt.loc[val_annt['image_id'] == val['id'][i]]\n",
    "    df.loc[:,'b_center_x'] = df['top_left_x'] + df['box_width']/2\n",
    "    df.loc[:,'b_center_y'] = df['top_left_y'] + df['box_height']/2\n",
    "    df.loc[:,'b_center_x'] /= w\n",
    "    df.loc[:,'b_center_y'] /= h\n",
    "    df.loc[:,'box_width'] /= w\n",
    "    df.loc[:,'box_height'] /= h\n",
    "    df.reset_index(drop=True,inplace=True)\n",
    "    print_buffer = []\n",
    "    for j in range(len(df)):\n",
    "        print_buffer.append(\"{} {:.3f} {:.3f} {:.3f} {:.3f}\".format(df['category_id'][j], df['b_center_x'][j], df['b_center_y'][j], df['box_width'][j], df['box_height'][j]))\n",
    "    save_file_name = os.path.join(\"annotations/val\", val[\"file_name\"][i].replace(\"jpg\", \"txt\"))   \n",
    "    print(\"\\n\".join(print_buffer), file= open(save_file_name, \"w\"))\n",
    "\n",
    "#Here, I have changed it to run on val. Please start with train before applying to val    \n",
    "for idx in range(len(val)):\n",
    "     convert_to_yolo(idx)    "
   ]
  },
  {
   "cell_type": "markdown",
   "id": "5c1650c8",
   "metadata": {},
   "source": [
    "### Prepare yaml file "
   ]
  },
  {
   "cell_type": "markdown",
   "id": "2aca2634",
   "metadata": {},
   "source": [
    "We need to create a yaml file that contains the following:\n",
    "1) train image path \\\n",
    "2) val image path \\\n",
    "3) test image path \\\n",
    "4) number of classes \\\n",
    "5) list of class names"
   ]
  },
  {
   "cell_type": "markdown",
   "id": "a8b1806d",
   "metadata": {},
   "source": [
    "You can use the following to create the file before changing to desired format: "
   ]
  },
  {
   "cell_type": "code",
   "execution_count": 82,
   "id": "9ad7e290",
   "metadata": {},
   "outputs": [],
   "source": [
    "categories = pd.json_normalize(train_data['categories'])\n",
    "dict_file = [{'train' : '../images/train/'},\n",
    "{'val' : '../images/val/'}, {'test': '../images/test/'}, {'nc': 80}, {'names':categories['name'].values.tolist()}]\n",
    "\n",
    "with open(r'coco_data.yaml', 'w') as file:\n",
    "    documents = yaml.dump(dict_file, file)"
   ]
  },
  {
   "cell_type": "markdown",
   "id": "b36249fe",
   "metadata": {},
   "source": [
    "Now, there is a slight issue with the category_ids. \\\n",
    "YOLOv5 requires category_ids to start from 0 but if you examine closely, you will notice that category_id for our data starts from 1 & ends at 90, with some missing in between. \\\n",
    "We can fix that by first getting a list of missing category_ids. \\\n",
    "Then, looping through the list & add each missing category_id to the categories dataframe with None values for the other 3 columns. "
   ]
  },
  {
   "cell_type": "code",
   "execution_count": 83,
   "id": "938bdfe9",
   "metadata": {},
   "outputs": [],
   "source": [
    "lis = [x for x in np.arange(0,91) if x not in categories['id'].unique()]"
   ]
  },
  {
   "cell_type": "code",
   "execution_count": 84,
   "id": "5b10b239",
   "metadata": {},
   "outputs": [],
   "source": [
    "for i in lis:\n",
    "    categories.loc[-1] = ['None',i,'None']\n",
    "    categories.reset_index(drop=True,inplace=True)"
   ]
  },
  {
   "cell_type": "markdown",
   "id": "7269ef45",
   "metadata": {},
   "source": [
    "91 classes in total. \\\n",
    "You will need to add this to the yaml file. "
   ]
  },
  {
   "cell_type": "code",
   "execution_count": 85,
   "id": "c60c19a2",
   "metadata": {},
   "outputs": [
    {
     "data": {
      "text/html": [
       "<div>\n",
       "<style scoped>\n",
       "    .dataframe tbody tr th:only-of-type {\n",
       "        vertical-align: middle;\n",
       "    }\n",
       "\n",
       "    .dataframe tbody tr th {\n",
       "        vertical-align: top;\n",
       "    }\n",
       "\n",
       "    .dataframe thead th {\n",
       "        text-align: right;\n",
       "    }\n",
       "</style>\n",
       "<table border=\"1\" class=\"dataframe\">\n",
       "  <thead>\n",
       "    <tr style=\"text-align: right;\">\n",
       "      <th></th>\n",
       "      <th>supercategory</th>\n",
       "      <th>id</th>\n",
       "      <th>name</th>\n",
       "    </tr>\n",
       "  </thead>\n",
       "  <tbody>\n",
       "    <tr>\n",
       "      <th>0</th>\n",
       "      <td>person</td>\n",
       "      <td>1</td>\n",
       "      <td>person</td>\n",
       "    </tr>\n",
       "    <tr>\n",
       "      <th>1</th>\n",
       "      <td>vehicle</td>\n",
       "      <td>2</td>\n",
       "      <td>bicycle</td>\n",
       "    </tr>\n",
       "    <tr>\n",
       "      <th>2</th>\n",
       "      <td>vehicle</td>\n",
       "      <td>3</td>\n",
       "      <td>car</td>\n",
       "    </tr>\n",
       "    <tr>\n",
       "      <th>3</th>\n",
       "      <td>vehicle</td>\n",
       "      <td>4</td>\n",
       "      <td>motorcycle</td>\n",
       "    </tr>\n",
       "    <tr>\n",
       "      <th>4</th>\n",
       "      <td>vehicle</td>\n",
       "      <td>5</td>\n",
       "      <td>airplane</td>\n",
       "    </tr>\n",
       "    <tr>\n",
       "      <th>...</th>\n",
       "      <td>...</td>\n",
       "      <td>...</td>\n",
       "      <td>...</td>\n",
       "    </tr>\n",
       "    <tr>\n",
       "      <th>86</th>\n",
       "      <td>None</td>\n",
       "      <td>66</td>\n",
       "      <td>None</td>\n",
       "    </tr>\n",
       "    <tr>\n",
       "      <th>87</th>\n",
       "      <td>None</td>\n",
       "      <td>68</td>\n",
       "      <td>None</td>\n",
       "    </tr>\n",
       "    <tr>\n",
       "      <th>88</th>\n",
       "      <td>None</td>\n",
       "      <td>69</td>\n",
       "      <td>None</td>\n",
       "    </tr>\n",
       "    <tr>\n",
       "      <th>89</th>\n",
       "      <td>None</td>\n",
       "      <td>71</td>\n",
       "      <td>None</td>\n",
       "    </tr>\n",
       "    <tr>\n",
       "      <th>90</th>\n",
       "      <td>None</td>\n",
       "      <td>83</td>\n",
       "      <td>None</td>\n",
       "    </tr>\n",
       "  </tbody>\n",
       "</table>\n",
       "<p>91 rows × 3 columns</p>\n",
       "</div>"
      ],
      "text/plain": [
       "   supercategory  id        name\n",
       "0         person   1      person\n",
       "1        vehicle   2     bicycle\n",
       "2        vehicle   3         car\n",
       "3        vehicle   4  motorcycle\n",
       "4        vehicle   5    airplane\n",
       "..           ...  ..         ...\n",
       "86          None  66        None\n",
       "87          None  68        None\n",
       "88          None  69        None\n",
       "89          None  71        None\n",
       "90          None  83        None\n",
       "\n",
       "[91 rows x 3 columns]"
      ]
     },
     "execution_count": 85,
     "metadata": {},
     "output_type": "execute_result"
    }
   ],
   "source": [
    "categories"
   ]
  },
  {
   "cell_type": "markdown",
   "id": "030c6981",
   "metadata": {},
   "source": [
    "Category name list. \\\n",
    "You will need to add this list to the yaml file. "
   ]
  },
  {
   "cell_type": "code",
   "execution_count": 86,
   "id": "b7fa716d",
   "metadata": {},
   "outputs": [
    {
     "data": {
      "text/plain": [
       "['None',\n",
       " 'person',\n",
       " 'bicycle',\n",
       " 'car',\n",
       " 'motorcycle',\n",
       " 'airplane',\n",
       " 'bus',\n",
       " 'train',\n",
       " 'truck',\n",
       " 'boat',\n",
       " 'traffic light',\n",
       " 'fire hydrant',\n",
       " 'None',\n",
       " 'stop sign',\n",
       " 'parking meter',\n",
       " 'bench',\n",
       " 'bird',\n",
       " 'cat',\n",
       " 'dog',\n",
       " 'horse',\n",
       " 'sheep',\n",
       " 'cow',\n",
       " 'elephant',\n",
       " 'bear',\n",
       " 'zebra',\n",
       " 'giraffe',\n",
       " 'None',\n",
       " 'backpack',\n",
       " 'umbrella',\n",
       " 'None',\n",
       " 'None',\n",
       " 'handbag',\n",
       " 'tie',\n",
       " 'suitcase',\n",
       " 'frisbee',\n",
       " 'skis',\n",
       " 'snowboard',\n",
       " 'sports ball',\n",
       " 'kite',\n",
       " 'baseball bat',\n",
       " 'baseball glove',\n",
       " 'skateboard',\n",
       " 'surfboard',\n",
       " 'tennis racket',\n",
       " 'bottle',\n",
       " 'None',\n",
       " 'wine glass',\n",
       " 'cup',\n",
       " 'fork',\n",
       " 'knife',\n",
       " 'spoon',\n",
       " 'bowl',\n",
       " 'banana',\n",
       " 'apple',\n",
       " 'sandwich',\n",
       " 'orange',\n",
       " 'broccoli',\n",
       " 'carrot',\n",
       " 'hot dog',\n",
       " 'pizza',\n",
       " 'donut',\n",
       " 'cake',\n",
       " 'chair',\n",
       " 'couch',\n",
       " 'potted plant',\n",
       " 'bed',\n",
       " 'None',\n",
       " 'dining table',\n",
       " 'None',\n",
       " 'None',\n",
       " 'toilet',\n",
       " 'None',\n",
       " 'tv',\n",
       " 'laptop',\n",
       " 'mouse',\n",
       " 'remote',\n",
       " 'keyboard',\n",
       " 'cell phone',\n",
       " 'microwave',\n",
       " 'oven',\n",
       " 'toaster',\n",
       " 'sink',\n",
       " 'refrigerator',\n",
       " 'None',\n",
       " 'book',\n",
       " 'clock',\n",
       " 'vase',\n",
       " 'scissors',\n",
       " 'teddy bear',\n",
       " 'hair drier',\n",
       " 'toothbrush']"
      ]
     },
     "execution_count": 86,
     "metadata": {},
     "output_type": "execute_result"
    }
   ],
   "source": [
    "categories.sort_values('id')['name'].tolist()"
   ]
  },
  {
   "cell_type": "markdown",
   "id": "c4a68723",
   "metadata": {},
   "source": [
    "#### That's it for the data preparation part! \n",
    "#### Now, before you run the model training, kindly ensure that cuda for pytorch is available.  "
   ]
  },
  {
   "cell_type": "code",
   "execution_count": 1,
   "id": "207386cc",
   "metadata": {},
   "outputs": [
    {
     "data": {
      "text/plain": [
       "True"
      ]
     },
     "execution_count": 1,
     "metadata": {},
     "output_type": "execute_result"
    }
   ],
   "source": [
    "import torch\n",
    "#Should return True\n",
    "torch.cuda.is_available()"
   ]
  },
  {
   "cell_type": "code",
   "execution_count": 2,
   "id": "1b410d8e",
   "metadata": {},
   "outputs": [
    {
     "data": {
      "text/plain": [
       "'11.3'"
      ]
     },
     "execution_count": 2,
     "metadata": {},
     "output_type": "execute_result"
    }
   ],
   "source": [
    "torch.version.cuda"
   ]
  },
  {
   "cell_type": "code",
   "execution_count": 10,
   "id": "32149799",
   "metadata": {},
   "outputs": [
    {
     "data": {
      "text/plain": [
       "'1.10.0+cu113'"
      ]
     },
     "execution_count": 10,
     "metadata": {},
     "output_type": "execute_result"
    }
   ],
   "source": [
    "torch.__version__"
   ]
  },
  {
   "cell_type": "markdown",
   "id": "3e9a327c",
   "metadata": {},
   "source": [
    "### Model Training"
   ]
  },
  {
   "cell_type": "markdown",
   "id": "747b2f7c",
   "metadata": {},
   "source": [
    "Use the following in the command line to run model training on our custom dataset. \\\n",
    "We input the training script, image size to be scaled to, model architecture, model hyperparams, batch size, epochs, yaml file, pre-trained weights, no. of workers & detection file \n",
    "\n",
    "Please change the paths accordingly."
   ]
  },
  {
   "cell_type": "code",
   "execution_count": null,
   "id": "6e4c4b28",
   "metadata": {},
   "outputs": [],
   "source": [
    "python yolov5/train.py --img 640 --cfg yolov5/models/yolov5s.yaml --hyp yolov5/data/hyps/hyp.scratch.yaml --batch 64 --epochs 1 --data coco_dataset/coco_data.yaml --weights yolov5/weights/yolov5s.pt --workers 0 --name yolov5/coco_data_det\n"
   ]
  },
  {
   "cell_type": "markdown",
   "id": "f534c6be",
   "metadata": {},
   "source": [
    "Use the following in the command line to run model prediction on test images. \\\n",
    "We input the prediction script, test image directory, our trained weights, confidence threshold, detection file\n",
    "\n",
    "Please change the paths accordingly. "
   ]
  },
  {
   "cell_type": "code",
   "execution_count": null,
   "id": "efca8a37",
   "metadata": {},
   "outputs": [],
   "source": [
    "python yolov5/detect.py --source coco_dataset/images/test/ --weights yolov5\\runs\\train\\yolov5\\coco_data_det6\\weights\\last.pt --conf 0.25 --name yolov5\\runs\\train\\yolov5\\coco_data_det6\n"
   ]
  },
  {
   "cell_type": "markdown",
   "id": "1d93c759",
   "metadata": {},
   "source": [
    "Finally, we can print a random image from test images & see our model predictions:"
   ]
  },
  {
   "cell_type": "code",
   "execution_count": 87,
   "id": "75fa49b9",
   "metadata": {},
   "outputs": [
    {
     "data": {
      "image/png": "[encoded data removed]",
      "text/plain": [
       "<Figure size 432x288 with 1 Axes>"
      ]
     },
     "metadata": {
      "needs_background": "light"
     },
     "output_type": "display_data"
    }
   ],
   "source": [
    "detections_dir = \"C:\\\\Users\\\\resce\\\\Documents\\\\Jupyter Notebooks\\\\yolov5\\\\runs\\\\detect\\\\yolov5\\\\runs\\\\train\\\\yolov5\\\\coco_data_det6\"\n",
    "detection_images = [os.path.join(detections_dir, x) for x in os.listdir(detections_dir)]\n",
    "\n",
    "random_detection_image = Image.open(random.choice(detection_images))\n",
    "plt.imshow(np.array(random_detection_image))\n",
    "#plt.savefig('sample.png')"
   ]
  }
 ],
 "metadata": {
  "kernelspec": {
   "display_name": "tf-gpu",
   "language": "python",
   "name": "tf-gpu"
  },
  "language_info": {
   "codemirror_mode": {
    "name": "ipython",
    "version": 3
   },
   "file_extension": ".py",
   "mimetype": "text/x-python",
   "name": "python",
   "nbconvert_exporter": "python",
   "pygments_lexer": "ipython3",
   "version": "3.9.7"
  }
 },
 "nbformat": 4,
 "nbformat_minor": 5
}
